{
 "cells": [
  {
   "cell_type": "code",
   "execution_count": null,
   "metadata": {},
   "outputs": [],
   "source": [
    "import pandas as pd\n",
    "import seaborn as sns\n",
    "import matplotlib.pyplot as plt\n",
    "import json\n",
    "\n",
    "def load_court_data(court, case_type, weeks):\n",
    "    all_cases = []\n",
    "    for week in weeks:\n",
    "        file_path = f'retsmøder/{court}/{case_type}/{case_type}_uge_{week}.json'\n",
    "        with open(file_path, 'r', encoding='utf-8') as f:\n",
    "            cases = json.load(f)\n",
    "            all_cases.extend(cases)\n",
    "    return pd.DataFrame(all_cases)\n",
    "\n",
    "def plot_case_durations(court, case_type, weeks):\n",
    "    df = load_court_data(court, case_type, weeks)\n",
    "    \n",
    "    plt.figure(figsize=(10, 6))\n",
    "    sns.histplot(data=df, x='Varighed', bins=20)\n",
    "    plt.title(f'Distribution of Case Durations - {court} {case_type}')\n",
    "    plt.xlabel('Duration (minutes)')\n",
    "    plt.ylabel('Count')\n",
    "    plt.show()\n",
    "\n",
    "plot_case_durations('København', 'Straffe', [7, 8, 9])\n",
    "plot_case_durations('København', 'Civile', [7, 8, 9])\n",
    "plot_case_durations('Hillerød', 'Straffe', [7, 8, 9])\n",
    "plot_case_durations('Hillerød', 'Civile', [7, 8, 9])\n"
   ]
  },
  {
   "cell_type": "code",
   "execution_count": null,
   "metadata": {},
   "outputs": [],
   "source": []
  }
 ],
 "metadata": {
  "kernelspec": {
   "display_name": "webscripts_env",
   "language": "python",
   "name": "python3"
  },
  "language_info": {
   "codemirror_mode": {
    "name": "ipython",
    "version": 3
   },
   "file_extension": ".py",
   "mimetype": "text/x-python",
   "name": "python",
   "nbconvert_exporter": "python",
   "pygments_lexer": "ipython3",
   "version": "3.10.14"
  }
 },
 "nbformat": 4,
 "nbformat_minor": 2
}
